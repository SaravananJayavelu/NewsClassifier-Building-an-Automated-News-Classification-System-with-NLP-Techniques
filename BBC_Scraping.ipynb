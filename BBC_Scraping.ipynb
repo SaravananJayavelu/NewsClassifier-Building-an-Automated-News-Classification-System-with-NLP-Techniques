{
 "cells": [
  {
   "cell_type": "code",
   "execution_count": 1,
   "id": "4589763a-0c80-4f81-8357-dc5aeb8e0788",
   "metadata": {},
   "outputs": [],
   "source": [
    "import time \n",
    "from selenium import webdriver\n",
    "from selenium.webdriver.common.by import By"
   ]
  },
  {
   "cell_type": "code",
   "execution_count": 2,
   "id": "3b1c698a-7520-4285-9533-c8d0d6104c7d",
   "metadata": {},
   "outputs": [],
   "source": [
    "tech={'headline':[]}"
   ]
  },
  {
   "cell_type": "code",
   "execution_count": 3,
   "id": "00188c66-24ea-4f1d-a7d2-2a870dbfdb14",
   "metadata": {},
   "outputs": [],
   "source": [
    "driver = webdriver.Chrome()  # Optional argument, if not specified will search path.\n",
    "\n",
    "driver.maximize_window()\n",
    "\n",
    "driver.get('https://www.bbc.com/news/technology?page=1')\n",
    "\n",
    "time.sleep(3)\n",
    "\n",
    "for i in range(1,21):\n",
    "    headline=driver.find_elements(By.CSS_SELECTOR,'span[class=\"ssrcss-1cm0vxx-LinkPostHeadline ej9ium94\"]')\n",
    "    head=[i.text for i in headline]\n",
    "    tech['headline'].extend(head)\n",
    "\n",
    "    driver.find_element(By.XPATH,'//div[contains(text(),{})]'.format(i+1)).click()\n"
   ]
  },
  {
   "cell_type": "code",
   "execution_count": 4,
   "id": "fe32eb94-1b2e-4a8a-b726-4eb63592ebed",
   "metadata": {},
   "outputs": [
    {
     "data": {
      "text/plain": [
       "480"
      ]
     },
     "execution_count": 4,
     "metadata": {},
     "output_type": "execute_result"
    }
   ],
   "source": [
    "len(tech['headline'])"
   ]
  },
  {
   "cell_type": "code",
   "execution_count": 5,
   "id": "458f4c13-92e0-44d5-9107-21fc87dd7e1b",
   "metadata": {},
   "outputs": [],
   "source": [
    "climate={'headline':[]}"
   ]
  },
  {
   "cell_type": "code",
   "execution_count": 6,
   "id": "be5aab14-237c-410e-8e05-8c705dcd6ead",
   "metadata": {},
   "outputs": [],
   "source": [
    "driver = webdriver.Chrome()  # Optional argument, if not specified will search path.\n",
    "\n",
    "driver.maximize_window()\n",
    "\n",
    "driver.get('https://www.bbc.com/news/topics/cmj34zmwm1zt?page=1')\n",
    "\n",
    "time.sleep(3)\n",
    "\n",
    "for i in range(1,21):\n",
    "    headline=driver.find_elements(By.CSS_SELECTOR,'span[class=\"ssrcss-1cm0vxx-LinkPostHeadline ej9ium94\"]')\n",
    "    head=[i.text for i in headline]\n",
    "    climate['headline'].extend(head)\n",
    "\n",
    "    driver.find_element(By.XPATH,'//div[contains(text(),{})]'.format(i+1)).click()\n"
   ]
  },
  {
   "cell_type": "code",
   "execution_count": 7,
   "id": "74ad775a-92a7-4063-a953-eab05f05dceb",
   "metadata": {},
   "outputs": [
    {
     "data": {
      "text/plain": [
       "476"
      ]
     },
     "execution_count": 7,
     "metadata": {},
     "output_type": "execute_result"
    }
   ],
   "source": [
    "len(climate['headline'])"
   ]
  },
  {
   "cell_type": "code",
   "execution_count": 8,
   "id": "19a14244-bd17-4e4b-94a1-e7719b7c9984",
   "metadata": {},
   "outputs": [],
   "source": [
    "health={'headline':[]}"
   ]
  },
  {
   "cell_type": "code",
   "execution_count": 9,
   "id": "6d75c9f0-a8cf-4c3c-96ff-42f9546e8c25",
   "metadata": {},
   "outputs": [],
   "source": [
    "driver = webdriver.Chrome()  # Optional argument, if not specified will search path.\n",
    "\n",
    "driver.maximize_window()\n",
    "\n",
    "driver.get('https://www.bbc.com/news/health?page=1')\n",
    "\n",
    "time.sleep(3)\n",
    "\n",
    "for i in range(1,21):\n",
    "    headline=driver.find_elements(By.CSS_SELECTOR,'span[class=\"ssrcss-1cm0vxx-LinkPostHeadline ej9ium94\"]')\n",
    "    head=[i.text for i in headline]\n",
    "    health['headline'].extend(head)\n",
    "\n",
    "    driver.find_element(By.XPATH,'//div[contains(text(),{})]'.format(i+1)).click()"
   ]
  },
  {
   "cell_type": "code",
   "execution_count": 10,
   "id": "a3eef599-f92b-40d6-ab9b-88943574ca75",
   "metadata": {},
   "outputs": [
    {
     "data": {
      "text/plain": [
       "479"
      ]
     },
     "execution_count": 10,
     "metadata": {},
     "output_type": "execute_result"
    }
   ],
   "source": [
    "len(health['headline'])"
   ]
  },
  {
   "cell_type": "code",
   "execution_count": 11,
   "id": "1c830d09-8b6e-447b-bd4c-d4b1374774bf",
   "metadata": {},
   "outputs": [],
   "source": [
    "entertainment={'headline':[]}"
   ]
  },
  {
   "cell_type": "code",
   "execution_count": 12,
   "id": "e739904e-04a2-4092-8c2f-cdb2143f4b5b",
   "metadata": {},
   "outputs": [],
   "source": [
    "driver = webdriver.Chrome()  # Optional argument, if not specified will search path.\n",
    "\n",
    "driver.maximize_window()\n",
    "\n",
    "driver.get('https://www.bbc.com/news/entertainment_and_arts?page=1')\n",
    "\n",
    "time.sleep(3)\n",
    "\n",
    "for i in range(1,21):\n",
    "    headline=driver.find_elements(By.CSS_SELECTOR,'span[class=\"ssrcss-1cm0vxx-LinkPostHeadline ej9ium94\"]')\n",
    "    head=[i.text for i in headline]\n",
    "    entertainment['headline'].extend(head)\n",
    "\n",
    "    driver.find_element(By.XPATH,'//div[contains(text(),{})]'.format(i+1)).click()"
   ]
  },
  {
   "cell_type": "code",
   "execution_count": 13,
   "id": "66e48211-c550-463e-b302-c00dd3af2e0c",
   "metadata": {},
   "outputs": [
    {
     "data": {
      "text/plain": [
       "479"
      ]
     },
     "execution_count": 13,
     "metadata": {},
     "output_type": "execute_result"
    }
   ],
   "source": [
    "len(entertainment['headline'])"
   ]
  },
  {
   "cell_type": "code",
   "execution_count": 14,
   "id": "fe9af890-65ca-43eb-ad6a-400c8d9d69c2",
   "metadata": {},
   "outputs": [],
   "source": [
    "sport={'headline':[]}"
   ]
  },
  {
   "cell_type": "code",
   "execution_count": 30,
   "id": "44386c59-417e-4467-bf80-68e11459285e",
   "metadata": {
    "scrolled": true
   },
   "outputs": [],
   "source": [
    "driver = webdriver.Chrome()  # Optional argument, if not specified will search path.\n",
    "\n",
    "driver.maximize_window()\n",
    "\n",
    "driver.get('https://indianexpress.com/section/sports/')\n",
    "\n",
    "time.sleep(3)\n",
    "\n",
    "for i in range(1,21):\n",
    "    headline=driver.find_elements(By.CSS_SELECTOR,'h2[class=\"title\"]')\n",
    "    head=[i.text for i in headline]\n",
    "    sport['headline'].extend(head)\n",
    "\n",
    "    driver.find_element(By.XPATH,'//a[contains(text(),\"Next\")]').click()"
   ]
  },
  {
   "cell_type": "code",
   "execution_count": 31,
   "id": "2df1f037-513b-4dcb-82cc-e5414266d395",
   "metadata": {},
   "outputs": [
    {
     "data": {
      "text/plain": [
       "963"
      ]
     },
     "execution_count": 31,
     "metadata": {},
     "output_type": "execute_result"
    }
   ],
   "source": [
    "len(sport['headline'])"
   ]
  },
  {
   "cell_type": "code",
   "execution_count": 32,
   "id": "7bba93e1-4289-4ccb-8d22-1a796324601c",
   "metadata": {},
   "outputs": [],
   "source": [
    "import pandas as pd\n",
    "\n",
    "techdf=pd.DataFrame(tech)\n",
    "climatedf=pd.DataFrame(climate)\n",
    "healthdf=pd.DataFrame(health)\n",
    "entertainmentdf=pd.DataFrame(entertainment)\n",
    "sportdf=pd.DataFrame(sport)"
   ]
  },
  {
   "cell_type": "code",
   "execution_count": 33,
   "id": "6050017a-5c6b-41f3-8d5e-ab0ee0568d01",
   "metadata": {},
   "outputs": [],
   "source": [
    "techdf['category']='tech'\n",
    "climatedf['category']='climate'\n",
    "healthdf['category']='health'\n",
    "entertainmentdf['category']='entertainment'\n",
    "sportdf['category']='sport'"
   ]
  },
  {
   "cell_type": "code",
   "execution_count": 39,
   "id": "7a2ea60e-8a06-4709-93d2-607e64d9f568",
   "metadata": {},
   "outputs": [],
   "source": [
    "df=pd.concat([techdf,climatedf,healthdf,entertainmentdf,sportdf],ignore_index=True)"
   ]
  },
  {
   "cell_type": "code",
   "execution_count": 40,
   "id": "1953a99d-4a21-4dd3-a5f5-7e1a16386145",
   "metadata": {},
   "outputs": [
    {
     "data": {
      "text/html": [
       "<div>\n",
       "<style scoped>\n",
       "    .dataframe tbody tr th:only-of-type {\n",
       "        vertical-align: middle;\n",
       "    }\n",
       "\n",
       "    .dataframe tbody tr th {\n",
       "        vertical-align: top;\n",
       "    }\n",
       "\n",
       "    .dataframe thead th {\n",
       "        text-align: right;\n",
       "    }\n",
       "</style>\n",
       "<table border=\"1\" class=\"dataframe\">\n",
       "  <thead>\n",
       "    <tr style=\"text-align: right;\">\n",
       "      <th></th>\n",
       "      <th>headline</th>\n",
       "      <th>category</th>\n",
       "    </tr>\n",
       "  </thead>\n",
       "  <tbody>\n",
       "    <tr>\n",
       "      <th>2322</th>\n",
       "      <td>Four years into Soviet Union-style chess acade...</td>\n",
       "      <td>sport</td>\n",
       "    </tr>\n",
       "    <tr>\n",
       "      <th>2409</th>\n",
       "      <td>Indian batsmen can’t blame pitch with low boun...</td>\n",
       "      <td>sport</td>\n",
       "    </tr>\n",
       "    <tr>\n",
       "      <th>2399</th>\n",
       "      <td>Dhruv Jurel: Nerveless and nimble while scorin...</td>\n",
       "      <td>sport</td>\n",
       "    </tr>\n",
       "    <tr>\n",
       "      <th>935</th>\n",
       "      <td>Africa proposes global taxes to fight climate ...</td>\n",
       "      <td>climate</td>\n",
       "    </tr>\n",
       "    <tr>\n",
       "      <th>338</th>\n",
       "      <td>How is Russia using 'kamikaze' drones in Ukraine?</td>\n",
       "      <td>tech</td>\n",
       "    </tr>\n",
       "    <tr>\n",
       "      <th>481</th>\n",
       "      <td>Rishi Sunak backs protesting Welsh farmers</td>\n",
       "      <td>climate</td>\n",
       "    </tr>\n",
       "    <tr>\n",
       "      <th>1958</th>\n",
       "      <td>How Ollie Robinson, who has wickets of Virat K...</td>\n",
       "      <td>sport</td>\n",
       "    </tr>\n",
       "    <tr>\n",
       "      <th>2469</th>\n",
       "      <td>Thomas Tuchel to leave Bayern Munich after 202...</td>\n",
       "      <td>sport</td>\n",
       "    </tr>\n",
       "    <tr>\n",
       "      <th>1138</th>\n",
       "      <td>12-hour A&amp;E waits in winter 'becoming normalised'</td>\n",
       "      <td>health</td>\n",
       "    </tr>\n",
       "    <tr>\n",
       "      <th>711</th>\n",
       "      <td>Watch: Five top tips for thrifting</td>\n",
       "      <td>climate</td>\n",
       "    </tr>\n",
       "    <tr>\n",
       "      <th>289</th>\n",
       "      <td>Half of those accused of child abuse are teena...</td>\n",
       "      <td>tech</td>\n",
       "    </tr>\n",
       "    <tr>\n",
       "      <th>847</th>\n",
       "      <td>Theresa May: Net zero isn't act of economic harm</td>\n",
       "      <td>climate</td>\n",
       "    </tr>\n",
       "    <tr>\n",
       "      <th>336</th>\n",
       "      <td>Convicted 'Crypto King' will not face second t...</td>\n",
       "      <td>tech</td>\n",
       "    </tr>\n",
       "    <tr>\n",
       "      <th>251</th>\n",
       "      <td>US upholds ban on sale of latest Apple watches</td>\n",
       "      <td>tech</td>\n",
       "    </tr>\n",
       "    <tr>\n",
       "      <th>844</th>\n",
       "      <td>The street that has flooded more than 200 times</td>\n",
       "      <td>climate</td>\n",
       "    </tr>\n",
       "  </tbody>\n",
       "</table>\n",
       "</div>"
      ],
      "text/plain": [
       "                                               headline category\n",
       "2322  Four years into Soviet Union-style chess acade...    sport\n",
       "2409  Indian batsmen can’t blame pitch with low boun...    sport\n",
       "2399  Dhruv Jurel: Nerveless and nimble while scorin...    sport\n",
       "935   Africa proposes global taxes to fight climate ...  climate\n",
       "338   How is Russia using 'kamikaze' drones in Ukraine?     tech\n",
       "481          Rishi Sunak backs protesting Welsh farmers  climate\n",
       "1958  How Ollie Robinson, who has wickets of Virat K...    sport\n",
       "2469  Thomas Tuchel to leave Bayern Munich after 202...    sport\n",
       "1138  12-hour A&E waits in winter 'becoming normalised'   health\n",
       "711                  Watch: Five top tips for thrifting  climate\n",
       "289   Half of those accused of child abuse are teena...     tech\n",
       "847    Theresa May: Net zero isn't act of economic harm  climate\n",
       "336   Convicted 'Crypto King' will not face second t...     tech\n",
       "251      US upholds ban on sale of latest Apple watches     tech\n",
       "844     The street that has flooded more than 200 times  climate"
      ]
     },
     "execution_count": 40,
     "metadata": {},
     "output_type": "execute_result"
    }
   ],
   "source": [
    "df.sample(15)"
   ]
  },
  {
   "cell_type": "code",
   "execution_count": 41,
   "id": "1d749258-0ecb-4fc6-8380-e1c648c4f121",
   "metadata": {},
   "outputs": [
    {
     "data": {
      "text/plain": [
       "(2877, 2)"
      ]
     },
     "execution_count": 41,
     "metadata": {},
     "output_type": "execute_result"
    }
   ],
   "source": [
    "df.shape"
   ]
  },
  {
   "cell_type": "code",
   "execution_count": 42,
   "id": "3c555067-5867-4d73-b26d-16b61aaef671",
   "metadata": {},
   "outputs": [],
   "source": [
    "df.to_csv('news_data.csv',index=False)"
   ]
  }
 ],
 "metadata": {
  "kernelspec": {
   "display_name": "Python 3 (ipykernel)",
   "language": "python",
   "name": "python3"
  },
  "language_info": {
   "codemirror_mode": {
    "name": "ipython",
    "version": 3
   },
   "file_extension": ".py",
   "mimetype": "text/x-python",
   "name": "python",
   "nbconvert_exporter": "python",
   "pygments_lexer": "ipython3",
   "version": "3.11.5"
  }
 },
 "nbformat": 4,
 "nbformat_minor": 5
}
